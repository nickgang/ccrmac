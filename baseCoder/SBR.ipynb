{
 "cells": [
  {
   "cell_type": "code",
   "execution_count": 2,
   "metadata": {
    "collapsed": true
   },
   "outputs": [],
   "source": [
    "import numpy as np\n",
    "import window as w\n",
    "import psychoac as p\n",
    "import matplotlib.pyplot as plt\n",
    "import mdct as m\n",
    "%matplotlib inline"
   ]
  },
  {
   "cell_type": "markdown",
   "metadata": {},
   "source": [
    "## Encoder Methods"
   ]
  },
  {
   "cell_type": "code",
   "execution_count": 3,
   "metadata": {
    "collapsed": false
   },
   "outputs": [],
   "source": [
    "def calcSpecEnv(data,cutoff,fs):\n",
    "    # calcSpecEnv - Function to calculate spectral envelope passed to decoder for SBR\n",
    "    # data:      input signal for current block\n",
    "    # cutoff:    Cutoff frequency in Hz\n",
    "    # fs:        Sampling rate in Hz\n",
    "\n",
    "    N = data.size\n",
    "    freqVec = np.arange(0,fs/2,fs/float(N)) # Vector of FFT bin frequencies\n",
    "    Xn = np.fft.fft(w.HanningWindow(data),N)\n",
    "    hannWin = (1/float(N))*np.sum(np.power(w.HanningWindow(np.ones_like(data)),2)) # Get avg pow of hann window\n",
    "    XnI = (4/(np.power(N,2)*hannWin))*(np.power(np.abs(Xn),2)) # Compute values of FFT intensity\n",
    "    \n",
    "    bandLimits = p.cbFreqLimits # Zwicker critical band upper limits\n",
    "    cutBand = np.argwhere(bandLimits>=cutoff)[0] # Next band limit above cutoff freq\n",
    "    nHfBands = len(bandLimits)-cutBand # How many bands will be reconstructed\n",
    "    \n",
    "    specEnv = np.zeros(nHfBands-1)\n",
    "    for i in range(nHfBands-1):\n",
    "        bandLines = np.intersect1d(np.argwhere(freqVec>bandLimits[cutBand+i]),np.argwhere(freqVec<=bandLimits[cutBand+i+1]))\n",
    "        specEnv[i] = np.mean(XnI[bandLines]) # Spec Env is avg intensity in each hi-freq critical band\n",
    "        \n",
    "    return specEnv"
   ]
  },
  {
   "cell_type": "markdown",
   "metadata": {},
   "source": [
    "## Decoder Methods"
   ]
  },
  {
   "cell_type": "code",
   "execution_count": 4,
   "metadata": {
    "collapsed": false
   },
   "outputs": [],
   "source": [
    "# High Frequency Reconstruction\n",
    "def HiFreqRec(mdctLines,fs,cutoff):\n",
    "    nMDCT = len(mdctLines)\n",
    "    cutBin = freqToBin(nMDCT,cutoff,fs)\n",
    "    lowerBand = mdctLines[0:cutBin]\n",
    "    mdctLines[cutBin+1:cutBin+len(lowerBand)+1] = lowerBand # Do the transposition\n",
    "\n",
    "    return mdctLines.astype(float) # If these are ints it can cause problems"
   ]
  },
  {
   "cell_type": "code",
   "execution_count": 5,
   "metadata": {
    "collapsed": false
   },
   "outputs": [],
   "source": [
    "# Additional High Frequency Components\n",
    "def AddHiFreqs(mdctLines,fs,cutoff):\n",
    "    nMDCT = len(mdctLines)\n",
    "    cutBin = freqToBin(nMDCT,cutoff,fs)\n",
    "    noiseBins = len(mdctLines[cutBin:])\n",
    "    mdctLines[cutBin:] *= np.absolute(np.random.normal(1,0.5,noiseBins))# Add some noise to reconstructed bins\n",
    "#     mdctLines[cutBin:] *= 0.2 # Hardcoding this hack until envelope is ready\n",
    "    return mdctLines"
   ]
  },
  {
   "cell_type": "code",
   "execution_count": 6,
   "metadata": {
    "collapsed": false
   },
   "outputs": [],
   "source": [
    "# Envelope Adjustment\n",
    "def EnvAdjust(mdctLines,fs,envelope):\n",
    "    nMDCT = len(mdctLines)\n",
    "    mdctFreq = np.arange(0,fs/2,fs/float(N))+(fs/float(2.*N))\n",
    "    bandLimits = p.cbFreqLimits # Zwicker critical band upper limits\n",
    "    cutBand = np.argwhere(bandLimits>=cutoff)[0] # Next band limit above cutoff freq\n",
    "    nHfBands = len(envelope)\n",
    "    tempLines = np.copy(mdctLines)\n",
    "    \n",
    "    for i in range(nHfBands):\n",
    "        # Find MDCT lines in this critical band and apply envelope from encoder\n",
    "        bandLines = np.intersect1d(np.argwhere(mdctFreq>bandLimits[cutBand+i]),\\\n",
    "                                   np.argwhere(mdctFreq<=bandLimits[cutBand+i+1]))\n",
    "        tempLines[bandLines] *= envelope[i]\n",
    "        \n",
    "    return tempLines"
   ]
  },
  {
   "cell_type": "code",
   "execution_count": 7,
   "metadata": {
    "collapsed": false
   },
   "outputs": [],
   "source": [
    "# Utility Function to Convert Cutoff Freq to Bin number\n",
    "def freqToBin(nMDCT,cutoff,fs):\n",
    "    N = 2*nMDCT\n",
    "    freqVec = np.arange(0,fs/2,fs/float(N))+fs/float(2.*N) # MDCT Frequencies\n",
    "    cutBin = np.argmin(np.absolute(freqVec-cutoff)) # Find index of cutoff frequency\n",
    "    return cutBin"
   ]
  },
  {
   "cell_type": "markdown",
   "metadata": {},
   "source": [
    "## Test Code"
   ]
  },
  {
   "cell_type": "code",
   "execution_count": 8,
   "metadata": {
    "collapsed": false
   },
   "outputs": [
    {
     "data": {
      "image/png": "[encoded data removed]",
      "text/plain": [
       "<matplotlib.figure.Figure at 0x10cc64990>"
      ]
     },
     "metadata": {},
     "output_type": "display_data"
    }
   ],
   "source": [
    "#-----------------------------------------------------------------------------\n",
    "\n",
    "#Testing code\n",
    "if __name__ == \"__main__\": \n",
    "    fs = 48000\n",
    "    T = 1/float(fs)\n",
    "    N = 1024\n",
    "    n = np.arange(0,N*T,T)\n",
    "    freqVec = np.arange(0,fs/2,fs/float(N)) # Vector of frequencies for plotting\n",
    "    freqMDCT = freqVec + (fs/float(2.*N)) # MDCT Lines\n",
    "    \n",
    "    # Test Signal from previous hw\n",
    "    A = np.array([0.40,0.20,0.20,0.09,0.06,0.05]) # Sinusoidal component amplitudes\n",
    "    F = np.array([440,550,660,880,4400,8800]) # Sinusoidal frequencies\n",
    "    xn = A[0]*np.cos(2*np.pi*F[0]*n) + A[1]*np.cos(2*np.pi*F[1]*n) +\\\n",
    "    A[2]*np.cos(2*np.pi*F[2]*n) + A[3]*np.cos(2*np.pi*F[3]*n) + \\\n",
    "    A[4]*np.cos(2*np.pi*F[4]*n) + A[5]*np.cos(2*np.pi*F[5]*n)\n",
    "    \n",
    "    Xmdct = m.MDCT(w.SineWindow(xn),N/2,N/2) # Compute FFT of signal\n",
    "    sineWin = (1/float(N))*np.sum(np.power(w.SineWindow(np.ones_like(xn)),2)) # Get avg pow of hann window\n",
    "    XmI = (4/(np.power(N,2)*sineWin))*(np.power(np.abs(Xmdct),2)) # Convert values of FFT to intensity\n",
    "    \n",
    "    cutoff = fs/4\n",
    "    \n",
    "    specEnv = calcSpecEnv(xn,cutoff,fs)\n",
    "    \n",
    "    newBins = HiFreqRec(XmI,fs,cutoff)\n",
    "    noiseBins = AddHiFreqs(newBins,fs,cutoff)\n",
    "    envBins = EnvAdjust(noiseBins,fs,specEnv)\n",
    "\n",
    "    plt.figure(1)\n",
    "    plt.semilogx(p.SPL(XmI),color='red',lw=2)\n",
    "    plt.hold(True)\n",
    "    plt.semilogx(p.SPL(envBins),color='green',lw=1)"
   ]
  },
  {
   "cell_type": "code",
   "execution_count": null,
   "metadata": {
    "collapsed": true
   },
   "outputs": [],
   "source": []
  }
 ],
 "metadata": {
  "anaconda-cloud": {},
  "kernelspec": {
   "display_name": "Python [Root]",
   "language": "python",
   "name": "Python [Root]"
  },
  "language_info": {
   "codemirror_mode": {
    "name": "ipython",
    "version": 2
   },
   "file_extension": ".py",
   "mimetype": "text/x-python",
   "name": "python",
   "nbconvert_exporter": "python",
   "pygments_lexer": "ipython2",
   "version": "2.7.12"
  }
 },
 "nbformat": 4,
 "nbformat_minor": 0
}

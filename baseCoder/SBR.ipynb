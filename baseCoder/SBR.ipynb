{
 "cells": [
  {
   "cell_type": "code",
   "execution_count": 3,
   "metadata": {
    "collapsed": true
   },
   "outputs": [],
   "source": [
    "import numpy as np\n",
    "from scipy import signal\n",
    "import window as w\n",
    "import psychoac as p\n",
    "import matplotlib.pyplot as plt\n",
    "import mdct as m\n",
    "%matplotlib inline\n",
    "plt.rcParams['figure.figsize'] = (12.0, 8.0)"
   ]
  },
  {
   "cell_type": "markdown",
   "metadata": {},
   "source": [
    "## Encoder Methods"
   ]
  },
  {
   "cell_type": "code",
   "execution_count": 42,
   "metadata": {
    "collapsed": false
   },
   "outputs": [],
   "source": [
    "def calcSpecEnv(data,cutoff,fs,hfRecType=2):\n",
    "    # calcSpecEnv - Function to calculate spectral envelope passed to decoder for SBR\n",
    "    # data:      input signal for current block\n",
    "    # cutoff:    Cutoff frequency in Hz\n",
    "    # fs:        Sampling rate in Hz\n",
    "    # hfRecType: 1 for full subband, 2 for altered subband that repeats top half\n",
    "    N = data.size\n",
    "    print 'N: ',N\n",
    "    freqVec = np.arange(0,fs/2,fs/float(N)) # Vector of FFT bin frequencies\n",
    "    Xn = np.fft.fft(w.HanningWindow(data),N)\n",
    "    hannWin = (1/float(N))*np.sum(np.power(w.HanningWindow(np.ones_like(data)),2)) # Get avg pow of hann window\n",
    "    XnI = (4/(np.power(N,2)*hannWin))*(np.power(np.abs(Xn),2)) # Compute values of FFT intensity\n",
    "    # Transpose down top half of subband if we're using altered alg\n",
    "    cutBin = freqToBinFFT(N,cutoff,fs)\n",
    "    subBand = np.array(XnI[0:cutBin],copy=True)\n",
    "    if hfRecType==2:\n",
    "        try:\n",
    "            subBand[0:int(np.floor(cutBin/2))] = subBand[int(np.floor(cutBin/2)):cutBin]\n",
    "        except:\n",
    "            subBand[0:int(np.floor(cutBin/2))] = subBand[int(np.floor(cutBin/2)+1):cutBin]\n",
    "        # Add in additional high frequencies if there are less\n",
    "        lowSize = int(len(subBand))\n",
    "        highSize = int(len(XnI[cutBin:]))\n",
    "        if lowSize<highSize:\n",
    "            multiples = highSize/lowSize\n",
    "            diff = highSize%lowSize\n",
    "            addition = np.array(subBand,copy=True) # This is the piece to add in each time\n",
    "            # Add in more copies of low band until sizes are comparable\n",
    "            for m in range(multiples-1):\n",
    "                subBand  = np.append(subBand,addition)\n",
    "            if diff!=0:\n",
    "                subBand = np.append(subBand,np.zeros(diff))\n",
    "                subBand[-diff:] = subBand[0:diff]\n",
    "\n",
    "    bandLimits = p.cbFreqLimits # Zwicker critical band upper limits\n",
    "    cutBand = np.argwhere(bandLimits>=cutoff)[0] # Next band limit above cutoff freq\n",
    "    nHfBands = len(bandLimits)-cutBand # How many bands will be reconstructed\n",
    "    specEnv = np.zeros(nHfBands-1)\n",
    "\n",
    "    for i in range(nHfBands-1):\n",
    "        bandLines = np.intersect1d(np.argwhere(freqVec>bandLimits[cutBand+i]),\\\n",
    "                                   np.argwhere(freqVec<=bandLimits[cutBand+i+1]))\n",
    "        highMean = np.mean(XnI[bandLines]) \n",
    "        subSlice = subBand[i*len(bandLines):(i+1)*len(bandLines)]\n",
    "        subMean = np.mean(subSlice)\n",
    "        # Spec Env is ratio of avg intensity in each hi-freq critical band to corresponding sub band\n",
    "        specEnv[i]=highMean/subMean\n",
    "    specEnv[np.nonzero(np.isnan(specEnv))] = 1 # Get rid of pesky nans\n",
    "    return specEnv"
   ]
  },
  {
   "cell_type": "markdown",
   "metadata": {},
   "source": [
    "## Decoder Methods"
   ]
  },
  {
   "cell_type": "code",
   "execution_count": 21,
   "metadata": {
    "collapsed": false
   },
   "outputs": [],
   "source": [
    "# High Frequency Reconstruction\n",
    "def HiFreqRec(mdctLines,fs,cutoff,hfRecType=2):\n",
    "    # hfRecType: 1 means straight bin transposition\n",
    "    #            2 means altered transposition (default)\n",
    "    nMDCT = len(mdctLines)\n",
    "    cutBin = freqToBin(nMDCT,cutoff,fs)\n",
    "    lowerBand = np.array(mdctLines[0:cutBin],copy=True)\n",
    "    if hfRecType==1:\n",
    "        mdctLines[cutBin+1:cutBin+len(lowerBand)+1] = lowerBand # Do the transposition\n",
    "    elif hfRecType==2:\n",
    "        try: # Being hacky to account for off by 1 errors\n",
    "            lowerBand[0:int(np.floor(cutBin/2))] = lowerBand[int(np.floor(cutBin/2)):cutBin]\n",
    "        except ValueError:\n",
    "            lowerBand[0:int(np.floor(cutBin/2))] = lowerBand[int(np.floor(cutBin/2)+1):cutBin]\n",
    "        # Add in additional high frequencies if reconstructed bin doesn't go all the way to nyquist\n",
    "        lowSize = int(len(lowerBand))\n",
    "        highSize = int(nMDCT-lowSize)\n",
    "        if lowSize<highSize:\n",
    "            multiples = highSize/lowSize\n",
    "            diff = highSize%lowSize\n",
    "            # Add in more copies of low band until sizes are comparable\n",
    "            for m in range(multiples-1):\n",
    "                np.append(lowerBand,lowerBand)\n",
    "            if diff!=0:\n",
    "                subBand = np.append(lowerBand,np.zeros(diff))\n",
    "                lowerBand[-diff:] = lowerBand[0:diff]\n",
    "                \n",
    "        mdctLines[cutBin+1:cutBin+len(lowerBand)+1] = lowerBand # Do the transposition\n",
    "\n",
    "    return mdctLines.astype(float) # If these are ints it can cause problems"
   ]
  },
  {
   "cell_type": "code",
   "execution_count": 6,
   "metadata": {
    "collapsed": false
   },
   "outputs": [],
   "source": [
    "# Additional High Frequency Components\n",
    "def AddHiFreqs(mdctLines,fs,cutoff):\n",
    "    nMDCT = len(mdctLines)\n",
    "    cutBin = freqToBin(nMDCT,cutoff,fs)\n",
    "    noiseBins = len(mdctLines[cutBin:])\n",
    "    mdctLines[cutBin:] *= np.absolute(np.random.normal(1,0.5,noiseBins))# Add some noise to reconstructed bins\n",
    "    return mdctLines"
   ]
  },
  {
   "cell_type": "code",
   "execution_count": 7,
   "metadata": {
    "collapsed": false
   },
   "outputs": [],
   "source": [
    "# Envelope Adjustment (assumes HF Reconstruction has occured)\n",
    "def EnvAdjust(mdctLines,fs,cutoff,envelope):\n",
    "    nMDCT = len(mdctLines)\n",
    "    N = 2*nMDCT\n",
    "    mdctFreq = np.arange(0,fs/2,fs/float(N))+(fs/float(2.*N))\n",
    "    bandLimits = p.cbFreqLimits # Zwicker critical band upper limits\n",
    "    cutBand = np.argwhere(bandLimits>=cutoff)[0] # Next band limit above cutoff freq\n",
    "    nHfBands = len(envelope)\n",
    "    tempLines = np.copy(mdctLines)\n",
    "    \n",
    "    for i in range(nHfBands):\n",
    "        # Find MDCT lines in this critical band and apply envelope from encoder\n",
    "        bandLines = np.intersect1d(np.argwhere(mdctFreq>bandLimits[cutBand+i]),\\\n",
    "                                   np.argwhere(mdctFreq<=bandLimits[cutBand+i+1]))\n",
    "        bandInt = np.mean(tempLines[bandLines]) # Average intensity in current band\n",
    "        tempLines[bandLines] *= envelope[i]        \n",
    "    return tempLines"
   ]
  },
  {
   "cell_type": "markdown",
   "metadata": {},
   "source": [
    "## Utility"
   ]
  },
  {
   "cell_type": "code",
   "execution_count": 8,
   "metadata": {
    "collapsed": false
   },
   "outputs": [],
   "source": [
    "# Utility Function to Convert Cutoff Freq to MDCT Bin number\n",
    "def freqToBin(nMDCT,cutoff,fs):\n",
    "    N = 2*nMDCT\n",
    "    freqVec = np.arange(0,fs/2,fs/float(N))+fs/float(2.*N) # MDCT Frequencies\n",
    "    cutBin = np.argmin(np.absolute(freqVec-cutoff)) # Find index of cutoff frequency\n",
    "    return cutBin"
   ]
  },
  {
   "cell_type": "code",
   "execution_count": 9,
   "metadata": {
    "collapsed": true
   },
   "outputs": [],
   "source": [
    "# Utility Function to Convert Cutoff Freq to FFT Bin Number\n",
    "def freqToBinFFT(nFFT,cutoff,fs):\n",
    "    N = nFFT\n",
    "    freqVec = np.arange(0,fs/2,fs/float(N)) # FFT freq vector\n",
    "    cutBin = np.argmin(np.absolute(freqVec-cutoff))\n",
    "    return cutBin"
   ]
  },
  {
   "cell_type": "code",
   "execution_count": 10,
   "metadata": {
    "collapsed": true
   },
   "outputs": [],
   "source": [
    "# Utility Function to Convert cutoff frequency to \n",
    "def freqToBand(cutoff):\n",
    "    bandLimits = p.cbFreqLimits # Zwicker critical band upper limits\n",
    "    cutBand = np.argwhere(bandLimits>=cutoff)[0] # Next band limit above cutoff freq\n",
    "    \n",
    "    return cutBand"
   ]
  },
  {
   "cell_type": "markdown",
   "metadata": {},
   "source": [
    "## Test Code"
   ]
  },
  {
   "cell_type": "code",
   "execution_count": 45,
   "metadata": {
    "collapsed": false
   },
   "outputs": [
    {
     "name": "stdout",
     "output_type": "stream",
     "text": [
      "N:  1024\n",
      "Band:  [18] Freq [5300]\n",
      "Spec Env:  [  8.02313071e-03   8.38512982e-02   2.32084227e+01   1.02818055e+08\n",
      "   5.62993682e+06   1.03686603e-05]\n"
     ]
    },
    {
     "data": {
      "image/png": "[encoded data removed]",
      "text/plain": [
       "<matplotlib.figure.Figure at 0x102218650>"
      ]
     },
     "metadata": {},
     "output_type": "display_data"
    }
   ],
   "source": [
    "#-----------------------------------------------------------------------------\n",
    "\n",
    "#Testing code\n",
    "if __name__ == \"__main__\": \n",
    "    fs = 48000\n",
    "    T = 1/float(fs)\n",
    "    N = 1024\n",
    "    n = np.arange(0,N*T,T)\n",
    "    freqVec = np.arange(0,fs/2,fs/float(N)) # Vector of frequencies for plotting\n",
    "    freqMDCT = freqVec + (fs/float(2.*N)) # MDCT Lines\n",
    "    \n",
    "    # Test Signal from previous hw\n",
    "    A = np.array([0.40,0.20,0.20,0.09,0.06,0.05]) # Sinusoidal component amplitudes\n",
    "    F = np.array([220,440,880,10000,12000,1760]) # Sinusoidal frequencies\n",
    "    xn = A[0]*np.cos(2*np.pi*F[0]*n) + A[1]*np.cos(2*np.pi*F[1]*n) +\\\n",
    "    A[2]*np.cos(2*np.pi*F[2]*n) + A[3]*np.cos(2*np.pi*F[3]*n) + \\\n",
    "    A[4]*np.cos(2*np.pi*F[4]*n) + A[5]*np.cos(2*np.pi*F[5]*n)\n",
    "\n",
    "# #     Noise Signal\n",
    "#     x = np.random.uniform(-1,1,(N))\n",
    "#     b,a = signal.butter(5,0.9) # lowpass filter\n",
    "#     xn = signal.lfilter(b,a,x)\n",
    "    \n",
    "    \n",
    "    Xmdct = m.MDCT(w.SineWindow(xn),N/2,N/2) # Compute FFT of signal\n",
    "    sineWin = (1/float(N))*np.sum(np.power(w.SineWindow(np.ones_like(xn)),2)) # Get avg pow of hann window\n",
    "    XmI = (4/(np.power(N,2)*sineWin))*(np.power(np.abs(Xmdct),2)) # Convert values of FFT to intensity\n",
    "    \n",
    "    cutoff = 5300\n",
    "    \n",
    "    specEnv = calcSpecEnv(xn,cutoff,fs)\n",
    "    \n",
    "    copyBins = np.array(XmI,copy=True)\n",
    "    newBins = HiFreqRec(copyBins,fs,cutoff)\n",
    "    noiseBins = AddHiFreqs(newBins,fs,cutoff)\n",
    "    envBins = EnvAdjust(noiseBins,fs,cutoff,specEnv)\n",
    "\n",
    "    plt.figure(1)\n",
    "    plt.semilogx(freqMDCT,p.SPL(XmI),color='red',lw=3,label=\"Original\")\n",
    "    plt.hold(True)\n",
    "    plt.semilogx(freqMDCT,p.SPL(envBins),color='green',lw=1,label=\"SBR\")\n",
    "    plt.hold(True)\n",
    "    a = plt.gca()\n",
    "    a.legend()\n",
    "    a.axis('tight')\n",
    "    \n",
    "    print 'Band: ',freqToBand(cutoff),'Freq',p.cbFreqLimits[freqToBand(cutoff)]\n",
    "    print 'Spec Env: ',specEnv"
   ]
  },
  {
   "cell_type": "code",
   "execution_count": null,
   "metadata": {
    "collapsed": true
   },
   "outputs": [],
   "source": []
  },
  {
   "cell_type": "code",
   "execution_count": null,
   "metadata": {
    "collapsed": false
   },
   "outputs": [],
   "source": [
    "freqToBand(9000)"
   ]
  }
 ],
 "metadata": {
  "anaconda-cloud": {},
  "kernelspec": {
   "display_name": "Python [Root]",
   "language": "python",
   "name": "Python [Root]"
  },
  "language_info": {
   "codemirror_mode": {
    "name": "ipython",
    "version": 2
   },
   "file_extension": ".py",
   "mimetype": "text/x-python",
   "name": "python",
   "nbconvert_exporter": "python",
   "pygments_lexer": "ipython2",
   "version": "2.7.12"
  }
 },
 "nbformat": 4,
 "nbformat_minor": 0
}
